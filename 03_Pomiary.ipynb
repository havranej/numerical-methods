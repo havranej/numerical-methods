{
 "cells": [
  {
   "cell_type": "markdown",
   "metadata": {},
   "source": [
    "# Pomiary\n",
    "### Zadanie 3\n",
    "\n",
    "Znajdź po raz kolejny rozwiązanie dokładne oraz z wykorzystaniem wszystkich dostępnych metod rozwiązania przybliżone dla zadania Cauchy'ego:\n",
    "\n",
    "$$ \\frac{dx}{dt} = -x + e^{-t}$$\n",
    "$$ x(0) = 1 $$\n",
    "\n",
    "Tym razem ale:\n",
    "* oblicz błąd dla różnych metod i $h$ (np. 0.1, 0.01 i 0.001)\n",
    "* zmierz koszt obliczeń (czas ich wykonania) dla różnych metod i $h = 0.001$\n",
    "\n",
    "Na podstawie uszyskanych wyników porównaj wykorzystywane metody."
   ]
  },
  {
   "cell_type": "markdown",
   "metadata": {},
   "source": [
    "Błąd zmieryzmy za pomocą RMSE ‒ Root Mean Square Error:\n",
    "\n",
    "$$RMSE = \\sqrt{\\frac{\\sum{(x_i - y_i)^2}}{N}}$$"
   ]
  },
  {
   "cell_type": "code",
   "execution_count": null,
   "metadata": {},
   "outputs": [],
   "source": [
    "%matplotlib notebook\n",
    "# %matplotlib inline"
   ]
  },
  {
   "cell_type": "code",
   "execution_count": null,
   "metadata": {},
   "outputs": [],
   "source": [
    "import numpy as np\n",
    "import matplotlib.pyplot as plt\n",
    "from ipywidgets import interact"
   ]
  },
  {
   "cell_type": "code",
   "execution_count": null,
   "metadata": {},
   "outputs": [],
   "source": [
    "from lib.equations import DifferentialEquation, DifferentialEquationSolution\n",
    "from lib.methods import euler, improved_euler, modified_euler, rk4, adams_bashforth"
   ]
  },
  {
   "cell_type": "code",
   "execution_count": null,
   "metadata": {},
   "outputs": [],
   "source": [
    "def sample_f(t, x):\n",
    "    ???\n",
    "\n",
    "def sample_exact(t, f, x0):\n",
    "    ???\n",
    "\n",
    "H = ???\n",
    "\n",
    "eq = DifferentialEquation(sample_f, x0 = 1, t_max = 10)\n",
    "eq.add_solution(sample_exact, h = H, title = \"Exact solution\", exact = True)\n",
    "eq.add_solution(euler, h = H, title = \"Euler\")\n",
    "eq.add_solution(improved_euler, h = H, title = \"Improved Euler\")\n",
    "eq.add_solution(modified_euler, h = H, title = \"Modified Euler\")\n",
    "eq.add_solution(rk4, h = H, title = \"RK4\")\n",
    "eq.add_solution(adams_bashforth, h = H, title = \"Adams-Bashforth\")\n",
    "\n",
    "eq.measure_rmse()"
   ]
  },
  {
   "cell_type": "code",
   "execution_count": null,
   "metadata": {},
   "outputs": [],
   "source": [
    "H = 0.001\n",
    "eq = DifferentialEquation(sample_f, x0 = 1, t_max = 1)\n",
    "\n",
    "%timeit eq.add_solution(sample_exact, h = H, exact = True)\n",
    "%timeit eq.add_solution(euler, h = H)\n",
    "\n",
    "???"
   ]
  }
 ],
 "metadata": {
  "kernelspec": {
   "display_name": "Python 3",
   "language": "python",
   "name": "python3"
  },
  "language_info": {
   "codemirror_mode": {
    "name": "ipython",
    "version": 3
   },
   "file_extension": ".py",
   "mimetype": "text/x-python",
   "name": "python",
   "nbconvert_exporter": "python",
   "pygments_lexer": "ipython3",
   "version": "3.7.4"
  }
 },
 "nbformat": 4,
 "nbformat_minor": 2
}
