{
 "cells": [
  {
   "cell_type": "markdown",
   "metadata": {},
   "source": [
    "# Wprowadzenie\n",
    "\n",
    "W tym pliku zapoznamy się z strukturą kodu, z którego będziemy korzystać w tych ćwiczeniach.\n",
    "\n",
    "Najpierw trzeba importować potrzebne biblioteki oraz zadecydować, w jaki sposób będą robione wykresy. W przypadku korzystania z Colaba, należy zakomentować opcję `notebook` i zamiast niej wybrać `inline`."
   ]
  },
  {
   "cell_type": "code",
   "execution_count": null,
   "metadata": {},
   "outputs": [],
   "source": [
    "%matplotlib notebook\n",
    "# %matplotlib inline"
   ]
  },
  {
   "cell_type": "code",
   "execution_count": null,
   "metadata": {},
   "outputs": [],
   "source": [
    "import numpy as np\n",
    "import matplotlib.pyplot as plt\n",
    "from ipywidgets import interact"
   ]
  },
  {
   "cell_type": "markdown",
   "metadata": {},
   "source": [
    "Poniżej jest podany kod dwu klas, o które będą oparte nasze ćwiczenia: `DifferentialEquation`, reprezentującej równanie różniczkowe, oraz `DifferentialEquationSolution`, reprezentującej rozwiązanie takiego równania. Można się zapoznać z ich implementacją, chociaż nie jest to konieczne."
   ]
  },
  {
   "cell_type": "code",
   "execution_count": null,
   "metadata": {},
   "outputs": [],
   "source": [
    "class DifferentialEquationSolution:\n",
    "    def __init__(self, equation, solving_function, h = 0.01, title = \"Untitled solution\", exact = False):\n",
    "        self.equation = equation\n",
    "        self.solving_function = solving_function\n",
    "        self.title = title\n",
    "        self.exact = exact\n",
    "        \n",
    "        self.update(h)\n",
    "  \n",
    "    def __repr__(self):\n",
    "        return f\"<{self.title} of {self.equation}>\"\n",
    "    \n",
    "    def __str__(self):\n",
    "        return self.title + \"\\nt: \" + str(self.t_list) + \"\\nx: \" + str(self.x_list)\n",
    "    \n",
    "    def update(self, h):\n",
    "        self.h = h\n",
    "        self.t_list = np.arange(self.equation.t0, self.equation.t_max + h, h)\n",
    "        self.x_list = self.solving_function(self.t_list, self.equation.f, self.equation.x0)\n",
    "        \n",
    "    def update_plot(self):\n",
    "        self.plot_line.set_data(self.t_list, self.x_list)"
   ]
  },
  {
   "cell_type": "code",
   "execution_count": null,
   "metadata": {},
   "outputs": [],
   "source": [
    "class DifferentialEquation:\n",
    "    def __init__(self, f, x0, t0 = 0, t_max = 1):\n",
    "        self.f = f\n",
    "        self.x0 = x0\n",
    "        self.t0 = t0\n",
    "        self.t_max = t_max\n",
    "        self.solutions = []\n",
    "        \n",
    "    def add_solution(self, solving_function, h = 0.01, title = \"Untitled solution\", exact = False):\n",
    "        solution = DifferentialEquationSolution(self, solving_function, h, title, exact)\n",
    "        self.solutions.append(solution)\n",
    "        \n",
    "    def plot(self):\n",
    "        fig = plt.figure()\n",
    "        ax = fig.add_subplot(1, 1, 1)\n",
    "\n",
    "        for solution in self.solutions:\n",
    "            plot_line, = ax.plot(solution.t_list, solution.x_list, label = solution.title)\n",
    "            solution.plot_line = plot_line\n",
    "        \n",
    "        ax.legend()\n",
    "        \n",
    "    def plot_interactive(self, h_min = 0.01, h_max = 1, h_step = 0.01):\n",
    "        self.plot()\n",
    "        \n",
    "        def update(h):\n",
    "            for solution in self.solutions:\n",
    "                if not solution.exact:\n",
    "                    solution.update(h)\n",
    "                    solution.update_plot()\n",
    "        \n",
    "        interact(update, h=(h_min, h_max, h_step));\n",
    "    \n",
    "    def _rmse(self, a, b):\n",
    "        assert np.all(a.t_list == b.t_list), f\"Nodes for {a.title} and {b.title} are not the same. Maybe the step (h) is different?\"\n",
    "        a = np.array(a.x_list)\n",
    "        b = np.array(b.x_list)\n",
    "        \n",
    "        return np.sqrt(((a-b)**2).mean())\n",
    "    \n",
    "    def measure_rmse(self):\n",
    "        exact_list = [solution for solution in self.solutions if solution.exact]\n",
    "        assert len(exact_list) == 1, \"There was either no exact solution or multiple exact solutions. Did you use 'exact = True' exactly once?\"\n",
    "        exact_solution = exact_list[0]\n",
    "        \n",
    "        rmse_dict = {}\n",
    "        for solution in self.solutions:\n",
    "            if solution.exact:\n",
    "                continue\n",
    "            rmse = self._rmse(exact_solution, solution)\n",
    "            rmse_dict[solution.title] = rmse\n",
    "        return rmse_dict\n",
    "        "
   ]
  },
  {
   "cell_type": "markdown",
   "metadata": {},
   "source": [
    "Definiując równanie różniczkowe, musimy podać fukcję $f(t, x)$ oraz wartość $x_0$ taką, że $x(t_0) = x_0$. Również możemy podać wartość $t_0$ (domyślnie ustawione na 0) oraz $t_{max}$ (domyślnie ustawione na 1). \n",
    "\n",
    "Rozwiażmy takie zgadnienie Cauchy'ego:\n",
    "$$ \\frac{dx}{dt} = -x + e^{-t}$$\n",
    "$$ x(0) = 1 $$\n",
    "\n",
    "dla którego chcemy znaleźć rozwiązanie metodami numerycznymi.\n",
    "\n",
    "Funkcję $f(t, x)$ wtedy definiujemy w ten sposób:"
   ]
  },
  {
   "cell_type": "code",
   "execution_count": null,
   "metadata": {},
   "outputs": [],
   "source": [
    "def sample_f(t, x):\n",
    "    return -x + np.exp(-t)"
   ]
  },
  {
   "cell_type": "markdown",
   "metadata": {},
   "source": [
    "I samo równanie stworzymy:"
   ]
  },
  {
   "cell_type": "code",
   "execution_count": null,
   "metadata": {},
   "outputs": [],
   "source": [
    "sample_equation = DifferentialEquation(sample_f, x0 = 1, t0 = 0, t_max = 1)"
   ]
  },
  {
   "cell_type": "markdown",
   "metadata": {},
   "source": [
    "Do równania możemy dodać rozwiązanie dokładne, o ile jest znane, żeby móc porównać dokładność metod numerycznych. W naszym przypadku takie rozwiązanie wynosi:\n",
    "$$x(t) = e^{-t} + t \\cdot e^{-t}$$\n",
    "\n",
    "I w kodzie go definujemy:"
   ]
  },
  {
   "cell_type": "code",
   "execution_count": null,
   "metadata": {},
   "outputs": [],
   "source": [
    "def sample_exact(t, f, x0):\n",
    "    return np.exp(-t) + t * np.exp(-t)\n",
    "\n",
    "sample_equation.add_solution(sample_exact, h = 0.05, title = \"Exact solution\", exact = True)"
   ]
  },
  {
   "cell_type": "markdown",
   "metadata": {},
   "source": [
    "Należy zwrócić uwagę, że w definicji funkcji `sample_exact` podajemy z powodu implementacji trzy parametry, chociaż korzystamy tylko z `t`. Następnie dodajemy rozwiązanie do naszego równania i definiujemy, że chcemy:\n",
    "* obliczyć wartość $x$ z krokem 0.05 (ważne dla robienia wykresów)\n",
    "* nazwać to rozwiązanie \"Exact solution\"\n",
    "* zaznaczyć, że chodzi o rozwiązanie dokładne\n",
    "\n",
    "Warto również zwrócić uwagę, że w `add_solution` podajemy tylko nazwę funkcji bez nawiasów. `sample_exact()` znaczyłoby, że funkcję ma zostać wykonana. W tym przypadku ale przekazujemy _samą funkcję_."
   ]
  },
  {
   "cell_type": "markdown",
   "metadata": {},
   "source": [
    "Teraz znajdźmy rozwiązanie metodą łamanych Eulera. Do tego potrzebujemy funkcję, która opisze nam tę metodę:"
   ]
  },
  {
   "cell_type": "code",
   "execution_count": null,
   "metadata": {},
   "outputs": [],
   "source": [
    "def euler(t_list, f, x0):\n",
    "    result = [] # Lista wyników\n",
    "    result.append(x0) # Wartość x w t0 jest podana\n",
    "    h = t_list[1] - t_list[0] # Ustalamy krok h\n",
    "    \n",
    "    for t in t_list[:-1]: # Idziemy przez wszystkie t\n",
    "        x_old = result[-1] # Bierzemy ostatnie obliczone x\n",
    "        x_new = x_old + h * f(t, x_old) # Aplikujemy metodę Eulera\n",
    "        result.append(x_new) # Dodajemy nowe x na koniec listy\n",
    "    \n",
    "    return result # Zwracamy wynik"
   ]
  },
  {
   "cell_type": "markdown",
   "metadata": {},
   "source": [
    "Samo obliczenie rozwiązania tą metodą przebiega tak samo, jak dodanie rozwiązania dokładnego:"
   ]
  },
  {
   "cell_type": "code",
   "execution_count": null,
   "metadata": {},
   "outputs": [],
   "source": [
    "sample_equation.add_solution(euler, h = 0.05, title = \"Euler\")"
   ]
  },
  {
   "cell_type": "markdown",
   "metadata": {},
   "source": [
    "Możemy porównać to rozwiązanie z rozwiązaniem dokładnym:"
   ]
  },
  {
   "cell_type": "code",
   "execution_count": null,
   "metadata": {},
   "outputs": [],
   "source": [
    "sample_equation.plot()"
   ]
  },
  {
   "cell_type": "markdown",
   "metadata": {},
   "source": [
    "O ile nie korzystamy z Colaba, możemy również zobaczyć zmianę dokładności rozwiązania w zależności od kroku $h$:"
   ]
  },
  {
   "cell_type": "code",
   "execution_count": null,
   "metadata": {
    "scrolled": false
   },
   "outputs": [],
   "source": [
    "sample_equation.plot_interactive()"
   ]
  },
  {
   "cell_type": "markdown",
   "metadata": {},
   "source": [
    "### Zadanie 1\n",
    "Analogicznie do metody Eulera podanej powyżej zaimplementuj ulepszoną metodę Eulera. Znajdź z jej pomocą rozwiązanie przybliżone naszego zagadnienia Cauchy'ego i porównaj na wykresie z rozwiązaniem dokładnym oraz rozwiązaniem przybliżonym uzyskanym metodą Eulera. Nie zapomnij o tym, żeby podać taki sam krok, jak w poprzednim przypadku."
   ]
  },
  {
   "cell_type": "code",
   "execution_count": null,
   "metadata": {},
   "outputs": [],
   "source": [
    "def improved_euler(t_list, f, x0):\n",
    "    result = []\n",
    "    result.append(x0)\n",
    "    h = t_list[1] - t_list[0]\n",
    "    \n",
    "    for t in t_list[:-1]:\n",
    "        ???\n",
    "    \n",
    "    return result\n"
   ]
  }
 ],
 "metadata": {
  "kernelspec": {
   "display_name": "Python 3",
   "language": "python",
   "name": "python3"
  },
  "language_info": {
   "codemirror_mode": {
    "name": "ipython",
    "version": 3
   },
   "file_extension": ".py",
   "mimetype": "text/x-python",
   "name": "python",
   "nbconvert_exporter": "python",
   "pygments_lexer": "ipython3",
   "version": "3.7.4"
  }
 },
 "nbformat": 4,
 "nbformat_minor": 2
}
