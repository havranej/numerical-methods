{
 "cells": [
  {
   "cell_type": "markdown",
   "metadata": {},
   "source": [
    "# Piaskownica\n",
    "\n",
    "### Zadanie 2\n",
    "Dla równiań podanych w zadaniu znajdź rozwiązania przybliżone różnymi metodami numerycznymi. Jakie obserwujesz różnice pomiędzy metodami? Jak zależą ich wyniki od kroku h (sprawdź w zakresie od 0.01 do 2.0)? Jak się sprawdzają dla różnych zadań ‒ czy są stabilne? "
   ]
  },
  {
   "cell_type": "code",
   "execution_count": null,
   "metadata": {},
   "outputs": [],
   "source": [
    "%matplotlib notebook\n",
    "# %matplotlib inline"
   ]
  },
  {
   "cell_type": "code",
   "execution_count": null,
   "metadata": {},
   "outputs": [],
   "source": [
    "import numpy as np\n",
    "import matplotlib.pyplot as plt\n",
    "from ipywidgets import interact"
   ]
  },
  {
   "cell_type": "code",
   "execution_count": null,
   "metadata": {},
   "outputs": [],
   "source": [
    "from lib.equations import DifferentialEquation, DifferentialEquationSolution\n",
    "from lib.methods import euler, improved_euler, modified_euler, rk4, adams_bashforth"
   ]
  },
  {
   "cell_type": "code",
   "execution_count": null,
   "metadata": {},
   "outputs": [],
   "source": [
    "\n",
    "    ???\n",
    "    ???\n",
    "    ???\n",
    "\n",
    "equation_1.plot_interactive(h_max = 2)"
   ]
  },
  {
   "cell_type": "code",
   "execution_count": null,
   "metadata": {},
   "outputs": [],
   "source": [
    "LAMBDA = 100\n",
    "\n",
    "def stiff_f(t, x):\n",
    "    return LAMBDA * (-x + np.sin(t))\n",
    "\n",
    "def stiff_exact(t, f, x0): \n",
    "    return (LAMBDA / (1 + LAMBDA**2)) * np.exp(-LAMBDA*t) + (LAMBDA**2 * np.sin(t) - LAMBDA * np.cos(t)) / (1+LAMBDA**2)\n",
    "\n",
    "    ???"
   ]
  }
 ],
 "metadata": {
  "kernelspec": {
   "display_name": "Python 3",
   "language": "python",
   "name": "python3"
  },
  "language_info": {
   "codemirror_mode": {
    "name": "ipython",
    "version": 3
   },
   "file_extension": ".py",
   "mimetype": "text/x-python",
   "name": "python",
   "nbconvert_exporter": "python",
   "pygments_lexer": "ipython3",
   "version": "3.7.4"
  }
 },
 "nbformat": 4,
 "nbformat_minor": 2
}
