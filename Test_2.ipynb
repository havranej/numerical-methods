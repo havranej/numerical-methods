{
 "cells": [
  {
   "cell_type": "code",
   "execution_count": 34,
   "metadata": {},
   "outputs": [],
   "source": [
    "%matplotlib notebook\n",
    "%matplotlib inline"
   ]
  },
  {
   "cell_type": "code",
   "execution_count": 2,
   "metadata": {},
   "outputs": [],
   "source": [
    "import numpy as np\n",
    "import matplotlib.pyplot as plt\n",
    "from ipywidgets import interact"
   ]
  },
  {
   "cell_type": "code",
   "execution_count": 3,
   "metadata": {},
   "outputs": [],
   "source": [
    "class DifferentialEquationSolution:\n",
    "    def __init__(self, equation, solving_function, h = 0.01, title = \"Untitled solution\", exact = False):\n",
    "        self.equation = equation\n",
    "        self.solving_function = solving_function\n",
    "        self.title = title\n",
    "        self.exact = exact\n",
    "        \n",
    "        self.update(h)\n",
    "  \n",
    "    def __repr__(self):\n",
    "        return f\"<{self.title} of {self.equation}>\"\n",
    "    \n",
    "    def __str__(self):\n",
    "        return self.title + \"\\nt: \" + str(self.t_list) + \"\\nx: \" + str(self.x_list)\n",
    "    \n",
    "    def update(self, h):\n",
    "        self.h = h\n",
    "        self.t_list = np.arange(self.equation.t0, self.equation.t_max + h, h)\n",
    "        self.x_list = self.solving_function(self.t_list, self.equation.f, self.equation.x0)\n",
    "        \n",
    "    def update_plot(self):\n",
    "        self.plot_line.set_data(self.t_list, self.x_list)"
   ]
  },
  {
   "cell_type": "code",
   "execution_count": 26,
   "metadata": {},
   "outputs": [],
   "source": [
    "class DifferentialEquation:\n",
    "    def __init__(self, f, x0, t0 = 0, t_max = 1):\n",
    "        self.f = f\n",
    "        self.x0 = x0\n",
    "        self.t0 = t0\n",
    "        self.t_max = t_max\n",
    "        self.solutions = []\n",
    "        \n",
    "    def add_solution(self, solving_function, h = 0.01, title = \"Untitled solution\", exact = False):\n",
    "        solution = DifferentialEquationSolution(self, solving_function, h, title, exact)\n",
    "        self.solutions.append(solution)\n",
    "        \n",
    "    def plot(self):\n",
    "        fig = plt.figure()\n",
    "        ax = fig.add_subplot(1, 1, 1)\n",
    "\n",
    "        for solution in self.solutions:\n",
    "            plot_line, = ax.plot(solution.t_list, solution.x_list, label = solution.title)\n",
    "            solution.plot_line = plot_line\n",
    "        \n",
    "        ax.legend()\n",
    "        \n",
    "    def plot_interactive(self, h_min = 0.01, h_max = 1, h_step = 0.01):\n",
    "        self.plot()\n",
    "        \n",
    "        def update(h):\n",
    "            for solution in self.solutions:\n",
    "                if not solution.exact:\n",
    "                    solution.update(h)\n",
    "                    solution.update_plot()\n",
    "        \n",
    "        interact(update, h=(h_min, h_max, h_step));\n",
    "    \n",
    "    def _rmse(self, a, b):\n",
    "        assert np.all(a.t_list == b.t_list), f\"Nodes for {a.title} and {b.title} are not the same. Maybe the step (h) is different?\"\n",
    "        a = np.array(a.x_list)\n",
    "        b = np.array(b.x_list)\n",
    "        \n",
    "        return np.sqrt(((a-b)**2).mean())\n",
    "    \n",
    "    def measure_rmse(self):\n",
    "        exact_list = [solution for solution in self.solutions if solution.exact]\n",
    "        assert len(exact_list) == 1, \"There was either no exact solution or multiple exact solutions. Did you use 'exact = True' exactly once?\"\n",
    "        exact_solution = exact_list[0]\n",
    "        \n",
    "        rmse_dict = {}\n",
    "        for solution in self.solutions:\n",
    "            if solution.exact:\n",
    "                continue\n",
    "            rmse = self._rmse(exact_solution, solution)\n",
    "            rmse_dict[solution.title] = rmse\n",
    "        return rmse_dict\n",
    "        "
   ]
  },
  {
   "cell_type": "code",
   "execution_count": 19,
   "metadata": {},
   "outputs": [],
   "source": [
    "def euler(t_list, f, x0):\n",
    "    result = []\n",
    "    result.append(x0)\n",
    "    h = t_list[1] - t_list[0]\n",
    "    \n",
    "    for t in t_list[:-1]:\n",
    "        x_old = result[-1]\n",
    "        x_new = x_old + h * f(t, x_old)\n",
    "        result.append(x_new)\n",
    "    \n",
    "    return result\n",
    "\n",
    "def improved_euler(t_list, f, x0):\n",
    "    result = []\n",
    "    result.append(x0)\n",
    "    h = t_list[1] - t_list[0]\n",
    "    \n",
    "    for t in t_list[:-1]:\n",
    "        x_old = result[-1]\n",
    "        k1 = h * f(t, x_old)\n",
    "        k2 = h * f(t + h, x_old + k1)\n",
    "        \n",
    "        x_new = x_old + 0.5*(k1 + k2)\n",
    "        result.append(x_new)\n",
    "    \n",
    "    return result\n",
    "\n",
    "def modified_euler(t_list, f, x0):\n",
    "    result = []\n",
    "    result.append(x0)\n",
    "    h = t_list[1] - t_list[0]\n",
    "    \n",
    "    for t in t_list[:-1]:\n",
    "        x_old = result[-1]\n",
    "        k1 = h * f(t, x_old)\n",
    "        k2 = h * f(t + h/2, x_old + k1/2)\n",
    "        \n",
    "        x_new = x_old + k2\n",
    "        result.append(x_new)\n",
    "    \n",
    "    return result\n",
    "\n",
    "def rk4(t_list, f, x0):\n",
    "    result = []\n",
    "    result.append(x0)\n",
    "    h = t_list[1] - t_list[0]\n",
    "    \n",
    "    for t in t_list[:-1]:\n",
    "        x_old = result[-1]\n",
    "        \n",
    "        k1 = h*f(t, x_old)\n",
    "        k2 = h*f(t + 0.5*h, x_old + 0.5*k1)\n",
    "        k3 = h*f(t + 0.5*h, x_old + 0.5*k2)\n",
    "        k4 = h*f(t + h, x_old + k3)\n",
    "        \n",
    "        x_new = x_old + (k1 + 2*k2 + 2*k3 + k4)/6\n",
    "        result.append(x_new)\n",
    "    \n",
    "    return result\n",
    "\n",
    "def adams_bashforth(t_list, f, x0):\n",
    "    result = []\n",
    "    result.append(x0)\n",
    "    h = t_list[1] - t_list[0]\n",
    "    \n",
    "    for t in t_list[:-1]:\n",
    "#         if len(result) >= 5:\n",
    "#             x_new = result[-1] + h*(1901*f(t, result[-1]) - 2774*f(t-h, result[-2]) + 2616*f(t-2*h, result[-3]) - 1274*f(t-3*h, result[-4]) + 251*f(t-4*h, result[-5]))/720\n",
    "#         elif len(result) == 4:\n",
    "#             x_new = result[-1] + h*(55*f(t, result[-1]) - 59*f(t-h, result[-2]) + 37*f(t-2*h, result[-3]) - 9*f(t-3*h, result[-4]))/24\n",
    "        if len(result) >= 3:\n",
    "            x_new = result[-1] + h*(23*f(t, result[-1]) - 16*f(t-h, result[-2]) + 5*f(t-2*h, result[-3]))/12\n",
    "        elif len(result) == 2:\n",
    "            x_new = result[-1] + h*(3*f(t, result[-1]) - 1*f(t-h, result[-2]))/2\n",
    "        else:\n",
    "            x_new = result[-1] + h*f(t, result[-1])\n",
    "        result.append(x_new)\n",
    "    \n",
    "    return result"
   ]
  },
  {
   "cell_type": "code",
   "execution_count": 33,
   "metadata": {
    "scrolled": false
   },
   "outputs": [
    {
     "data": {
      "text/plain": [
       "{'Euler': 3.952991850263449e-06,\n",
       " 'Improved Euler': 1.3176358984138327e-10,\n",
       " 'Modified Euler': 1.743181933141698e-10,\n",
       " 'RK4': 1.2292133173759316e-15,\n",
       " 'Adams-Bashforth': 1.117918940799913e-09}"
      ]
     },
     "execution_count": 33,
     "metadata": {},
     "output_type": "execute_result"
    }
   ],
   "source": [
    "def sample_f(t, x):\n",
    "    return -x + np.exp(-t)\n",
    "\n",
    "def sample_exact(t, f, x0):\n",
    "    return np.exp(-t) + t * np.exp(-t)\n",
    "\n",
    "H = 0.0001\n",
    "\n",
    "eq = DifferentialEquation(sample_f, x0 = 1, t_max = 10)\n",
    "eq.add_solution(sample_exact, h = H, title = \"Exact solution\", exact = True)\n",
    "eq.add_solution(euler, h = H, title = \"Euler\")\n",
    "eq.add_solution(improved_euler, h = H, title = \"Improved Euler\")\n",
    "eq.add_solution(modified_euler, h = H, title = \"Modified Euler\")\n",
    "eq.add_solution(rk4, h = H, title = \"RK4\")\n",
    "eq.add_solution(adams_bashforth, h = H, title = \"Adams-Bashforth\")\n",
    "\n",
    "# eq.plot_interactive()\n",
    "eq.measure_rmse()"
   ]
  },
  {
   "cell_type": "code",
   "execution_count": 35,
   "metadata": {},
   "outputs": [
    {
     "data": {
      "image/png": "[encoded data removed]",
      "text/plain": [
       "<Figure size 432x288 with 1 Axes>"
      ]
     },
     "metadata": {
      "needs_background": "light"
     },
     "output_type": "display_data"
    },
    {
     "data": {
      "application/vnd.jupyter.widget-view+json": {
       "model_id": "dc30490664ff45188d69f4eafefe914d",
       "version_major": 2,
       "version_minor": 0
      },
      "text/plain": [
       "interactive(children=(FloatSlider(value=0.005, description='h', max=0.01, min=0.001, step=0.001), Output()), _…"
      ]
     },
     "metadata": {},
     "output_type": "display_data"
    }
   ],
   "source": [
    "def simple_f(t, x):\n",
    "    return 5*x\n",
    "\n",
    "def simple_f_exact(t_list, f, x0):\n",
    "    return np.exp(5 * t_list)\n",
    "\n",
    "eq2 = DifferentialEquation(simple_f, x0 = 1, t_max = 2)\n",
    "eq2.add_solution(simple_f_exact, title = \"Exact solution\", exact = True)\n",
    "eq2.add_solution(euler, title = \"Euler\")\n",
    "eq2.add_solution(improved_euler, title = \"Improved Euler\")\n",
    "eq2.add_solution(rk4, title = \"RK4\")\n",
    "eq2.add_solution(adams_bashforth, title = \"Adams-Bashforth\")\n",
    "eq2.plot_interactive(h_min = 0.001, h_max = 0.01, h_step = 0.001)"
   ]
  },
  {
   "cell_type": "code",
   "execution_count": 37,
   "metadata": {},
   "outputs": [
    {
     "name": "stdout",
     "output_type": "stream",
     "text": [
      "239 µs ± 37.4 µs per loop (mean ± std. dev. of 7 runs, 1 loop each)\n",
      "21.1 ms ± 219 µs per loop (mean ± std. dev. of 7 runs, 10 loops each)\n",
      "43.3 ms ± 360 µs per loop (mean ± std. dev. of 7 runs, 10 loops each)\n",
      "47.2 ms ± 481 µs per loop (mean ± std. dev. of 7 runs, 10 loops each)\n",
      "95.3 ms ± 816 µs per loop (mean ± std. dev. of 7 runs, 10 loops each)\n",
      "77.8 ms ± 158 µs per loop (mean ± std. dev. of 7 runs, 10 loops each)\n"
     ]
    }
   ],
   "source": [
    "eq = DifferentialEquation(sample_f, x0 = 1, t_max = 1)\n",
    "%timeit eq.add_solution(sample_exact, h = 0.0001, exact = True)\n",
    "%timeit eq.add_solution(euler, h = 0.0001)\n",
    "%timeit eq.add_solution(improved_euler, h = 0.0001)\n",
    "%timeit eq.add_solution(modified_euler, h = 0.0001)\n",
    "%timeit eq.add_solution(rk4, h = 0.0001)\n",
    "%timeit eq.add_solution(adams_bashforth, h = 0.0001)"
   ]
  }
 ],
 "metadata": {
  "kernelspec": {
   "display_name": "Python 3",
   "language": "python",
   "name": "python3"
  },
  "language_info": {
   "codemirror_mode": {
    "name": "ipython",
    "version": 3
   },
   "file_extension": ".py",
   "mimetype": "text/x-python",
   "name": "python",
   "nbconvert_exporter": "python",
   "pygments_lexer": "ipython3",
   "version": "3.7.4"
  }
 },
 "nbformat": 4,
 "nbformat_minor": 2
}
